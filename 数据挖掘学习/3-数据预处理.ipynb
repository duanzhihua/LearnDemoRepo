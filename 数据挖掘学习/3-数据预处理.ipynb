{
 "cells": [
  {
   "cell_type": "code",
   "execution_count": 1,
   "metadata": {},
   "outputs": [],
   "source": [
    "from sklearn import preprocessing\n",
    "import numpy as np\n",
    "\n",
    "X_train = np.array([[ 1., -1.,  -2.],\n",
    "                    [ 2.,  0.,  0.],\n",
    "                    [ 3.,  1., -1.]])\n",
    "X_test = [[-1., 1., 0.]]"
   ]
  },
  {
   "cell_type": "code",
   "execution_count": 2,
   "metadata": {},
   "outputs": [
    {
     "name": "stdout",
     "output_type": "stream",
     "text": [
      "均值： [ 2.  0. -1.]\n",
      "方差： [0.81649658 0.81649658 0.81649658]\n",
      "均值： [0. 0. 0.]\n",
      "方差： [1. 1. 1.]\n",
      "均值： [0. 0. 0.]\n",
      "方差： [1. 1. 1.]\n"
     ]
    }
   ],
   "source": [
    "# 计算数据集的尺度（也就是数据集的均值和方差）（各列）\n",
    "scaler = preprocessing.StandardScaler().fit(X_train)   # 计算均值和方差\n",
    "print('均值：',scaler.mean_ )\n",
    "print('方差：',scaler.scale_ )\n",
    "\n",
    "# 通过尺度去处理另一个数据集，当然另一个数据集仍然可以是自己。\n",
    "X_scaled = scaler.transform(X_train)\n",
    "print('均值：',X_scaled.mean(axis=0))  # transform会转化数据集为均值为0\n",
    "print('方差：',X_scaled.std(axis=0))   # transform会转化数据集为方差为1\n",
    "\n",
    "# 上面两步的综合：缩放样本，是样本均值为0，方差为1（各列）\n",
    "X_scaled = preprocessing.scale(X_train,axis=0)      # 标准化：去均值和方差\n",
    "print('均值：',X_scaled.mean(axis=0))\n",
    "print('方差：',X_scaled.std(axis=0))"
   ]
  },
  {
   "cell_type": "code",
   "execution_count": 3,
   "metadata": {},
   "outputs": [
    {
     "name": "stdout",
     "output_type": "stream",
     "text": [
      "每列最大值： [1. 1. 1.]\n",
      "每列最小值： [0. 0. 0.]\n",
      "先平移： [-0.5  0.5  1. ]\n",
      "再缩放： [0.5 0.5 0.5]\n",
      "每列最大值： [1. 0. 1.]\n",
      "每列最小值： [ 0. -1.  0.]\n",
      "缩放比例： [2.  1.  0.2]\n",
      "缩放后的矩阵仍然具有稀疏性：\n",
      " [[ 0. -1.  0.]\n",
      " [ 0.  0.  1.]\n",
      " [ 1.  0.  0.]]\n"
     ]
    }
   ],
   "source": [
    "# MinMaxScaler将特征缩放至特定范围内（默认为0-1）\n",
    "min_max_scaler = preprocessing.MinMaxScaler()\n",
    "X_train_minmax = min_max_scaler.fit_transform(X_train)  # 训练同时转换\n",
    "print('每列最大值：',X_train_minmax.max(axis=0))   # 每列最大值为1\n",
    "print('每列最小值：',X_train_minmax.min(axis=0))    # 每列最小值为0\n",
    "# 缩放对象是记录了，平移距离和缩放大小，再对数据进行的操作\n",
    "print('先平移：',min_max_scaler.min_)\n",
    "print('再缩放：',min_max_scaler.scale_)\n",
    "\n",
    "X_test_minmax = min_max_scaler.transform(X_test)   # 转换实例应用到测试数据:实现和训练数据一致的缩放和移位操作:\n",
    "\n",
    "# MaxAbsScaler通过除以每个特征的最大值将训练数据特征缩放至 [-1, 1] 范围内。可以应用在稀疏矩阵上保留矩阵的稀疏性。\n",
    "X_train = np.array([[ 0., -1.,  0.],\n",
    "                    [ 0., 0.,  0.2],\n",
    "                    [ 2.,  0., 0]])\n",
    "max_abs_scaler = preprocessing.MaxAbsScaler()\n",
    "X_train_maxabs = max_abs_scaler.fit_transform(X_train)\n",
    "print('每列最大值：',X_train_maxabs.max(axis=0))   # 每列最大值为1\n",
    "print('每列最小值：',X_train_maxabs.min(axis=0))    # 每列最小值不低于-1\n",
    "print('缩放比例：',max_abs_scaler.scale_)\n",
    "X_test_maxabs = max_abs_scaler.transform(X_test)   # 转换实例应用到测试数据:实现和训练数据一致的缩放和移位操作:\n",
    "print('缩放后的矩阵仍然具有稀疏性：\\n',X_train_maxabs)"
   ]
  },
  {
   "cell_type": "code",
   "execution_count": 4,
   "metadata": {},
   "outputs": [
    {
     "name": "stdout",
     "output_type": "stream",
     "text": [
      "缩放后的矩阵离群点被处理了：\n",
      " [[-0.16666667 -1.84615385  0.        ]\n",
      " [ 0.          0.15384615  0.36363636]\n",
      " [ 1.83333333  0.         -1.63636364]]\n"
     ]
    }
   ],
   "source": [
    "X_train = np.array([[ 1., -11.,  -2.],\n",
    "                    [ 2.,  2.,  0.],\n",
    "                    [ 13.,  1., -11.]])\n",
    "robust_scale = preprocessing.RobustScaler()\n",
    "X_train_robust = robust_scale.fit_transform(X_train)  # 训练同时转换\n",
    "print('缩放后的矩阵离群点被处理了：\\n',X_train_robust)"
   ]
  },
  {
   "cell_type": "code",
   "execution_count": 5,
   "metadata": {},
   "outputs": [
    {
     "name": "stdout",
     "output_type": "stream",
     "text": [
      "源分位数情况： [1.  1.5 2.  2.5 3. ]\n",
      "变换后分位数情况： [0.   0.25 0.5  0.75 1.  ]\n"
     ]
    }
   ],
   "source": [
    "import warnings\n",
    "warnings.filterwarnings(\"ignore\")\n",
    "\n",
    "X_train = np.array([[ 1., -1.,  -2.],\n",
    "                    [ 2.,  0.,  0.],\n",
    "                    [ 3.,  1., -1.]])\n",
    "quantile_transformer = preprocessing.QuantileTransformer(random_state=0)  # 将数据映射到了零到一的均匀分布上（默认是均匀分布）\n",
    "X_train_trans = quantile_transformer.fit_transform(X_train)\n",
    "\n",
    "#查看分位数信息，经过转换以后，分位数的信息基本不变\n",
    "print('源分位数情况：',np.percentile(X_train[:, 0], [0, 25, 50, 75, 100]))\n",
    "print('变换后分位数情况：',np.percentile(X_train_trans[:, 0], [0, 25, 50, 75, 100]))\n",
    "\n",
    "# 下面将数据映射到了零到一的正态分布上：输入的中值称为输出的平均值，并且以0为中心。正常输出被剪切，使得输入的最小和最大值分别对应于1e-7和1-1e-7分位数\n",
    "quantile_transformer = preprocessing.QuantileTransformer(output_distribution='normal',random_state=0)"
   ]
  },
  {
   "cell_type": "code",
   "execution_count": 6,
   "metadata": {},
   "outputs": [
    {
     "name": "stdout",
     "output_type": "stream",
     "text": [
      "样本归一化：\n",
      " [[ 0.25 -0.25  0.5 ]\n",
      " [ 1.    0.    0.  ]\n",
      " [ 0.    0.5  -0.5 ]]\n"
     ]
    },
    {
     "data": {
      "text/plain": [
       "array([[ 0.40824829, -0.40824829,  0.81649658],\n",
       "       [ 1.        ,  0.        ,  0.        ],\n",
       "       [ 0.        ,  0.70710678, -0.70710678]])"
      ]
     },
     "execution_count": 6,
     "metadata": {},
     "output_type": "execute_result"
    }
   ],
   "source": [
    "X = [[ 1., -1.,  2.],\n",
    "     [ 2.,  0.,  0.],\n",
    "     [ 0.,  1., -1.]]\n",
    "X_normalized = preprocessing.normalize(X, norm='l1')  # 使用 l1 或 l2 范式。缩放使每个样本（每行）的一范数或二范数为1\n",
    "print('样本归一化：\\n',X_normalized)\n",
    "# 当然仍然可以先通过样本获取转换对象，再用转换对象归一化其他数据\n",
    "normalizer = preprocessing.Normalizer().fit(X)  # 获取转换对象\n",
    "normalizer.transform(X)  # 转换任何数据，X或测试集"
   ]
  },
  {
   "cell_type": "code",
   "execution_count": 7,
   "metadata": {},
   "outputs": [
    {
     "name": "stdout",
     "output_type": "stream",
     "text": [
      "Binarizer(copy=True, threshold=0.0)\n",
      "特征二值化：\n",
      " [[1. 0. 1.]\n",
      " [1. 0. 0.]\n",
      " [0. 1. 0.]]\n"
     ]
    }
   ],
   "source": [
    "binarizer = preprocessing.Binarizer().fit(X)  # 获取转换模型，生成的门限，默认为0\n",
    "print(binarizer)\n",
    "# binarizer = preprocessing.Binarizer(threshold=1) # 自定义转换器。门限以上为1，门限（包含）以下为0\n",
    "X_normalized = binarizer.transform(X)  # 转换任何数据，X或测试集\n",
    "print('特征二值化：\\n',X_normalized)"
   ]
  },
  {
   "cell_type": "code",
   "execution_count": 11,
   "metadata": {},
   "outputs": [
    {
     "name": "stdout",
     "output_type": "stream",
     "text": [
      "编码后： [[1. 0. 0. 1. 0. 0. 1. 0.]]\n"
     ]
    }
   ],
   "source": [
    "from sklearn.preprocessing import OneHotEncoder\n",
    "enc = OneHotEncoder()\n",
    "enc.fit([[0, 1, 2],   # 每列一个属性，每个属性一种编码\n",
    "         [1, 0, 0],\n",
    "         [0, 2, 1],\n",
    "         [1, 0, 1]])\n",
    "#print('取值范围整数个数：',enc.n_values_)  # 每个属性的最大可取值数目。2,3,3\n",
    "print('编码后：',enc.transform([[0, 1, 1]]).toarray()) # 转换目标对象。根据可取值所占位数进行罗列。前2位为第一个数字one-hot编码，紧接着的3位为第二个数字的编码，最后3位为第三个数字的编码\n",
    "#print('特征开始位置的索引：',enc.feature_indices_) # 对 n_values_的累积值，代表一个样本转换为编码后的每个属性的开始位置。0,2,5,8"
   ]
  },
  {
   "cell_type": "code",
   "execution_count": null,
   "metadata": {},
   "outputs": [],
   "source": []
  }
 ],
 "metadata": {
  "kernelspec": {
   "display_name": "Python 3",
   "language": "python",
   "name": "python3"
  },
  "language_info": {
   "codemirror_mode": {
    "name": "ipython",
    "version": 3
   },
   "file_extension": ".py",
   "mimetype": "text/x-python",
   "name": "python",
   "nbconvert_exporter": "python",
   "pygments_lexer": "ipython3",
   "version": "3.7.3"
  }
 },
 "nbformat": 4,
 "nbformat_minor": 2
}
