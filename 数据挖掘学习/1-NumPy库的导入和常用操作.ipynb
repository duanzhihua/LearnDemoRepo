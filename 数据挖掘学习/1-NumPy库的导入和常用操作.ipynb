{
 "cells": [
  {
   "cell_type": "code",
   "execution_count": 1,
   "metadata": {},
   "outputs": [
    {
     "name": "stdout",
     "output_type": "stream",
     "text": [
      "[[0. 0.]\n",
      " [0. 0.]]\n",
      "[[1. 1.]\n",
      " [1. 1.]]\n",
      "[[1. 0.]\n",
      " [0. 1.]]\n"
     ]
    }
   ],
   "source": [
    "import numpy as np\t\t\t\t\t\t\t\t# 导入库时可以使用as来为为库起别名\n",
    "\n",
    "# np.zeros(shape, dtype=float, order='C')：创建一个形状为shape的全零数组。dtype为数据类型。order=C代表与c语言类似，行优先;order=F代表列优先\n",
    "print(np.zeros([2,2]))\t\t\t\t\t\t\t# 创建一个2*2的全0数组\n",
    "# np.ones(shape, dtype=None, order='C')：创建一个全1数组，和np.zeros()类似。\n",
    "print(np.ones([2,2]))\t\t\t\t\t\t\t\t# 创建一个2*2的全1数组\n",
    "# np.eye(N, M=None, k=0, dtype=float, order='C')：生成一个对角矩阵，N为行数；M为列数，默认和N一样；k为对角线的索引，0代表主对角线。\n",
    "print(np.eye(2))\t\t\t\t\t\t\t\t\t# 创建一个2X2的对角矩阵"
   ]
  },
  {
   "cell_type": "code",
   "execution_count": 2,
   "metadata": {},
   "outputs": [
    {
     "name": "stdout",
     "output_type": "stream",
     "text": [
      "[[-5.68436073e+185 -1.22900482e-034 -8.31214965e+190]\n",
      " [-1.71426939e-141 -4.09325827e+174 -5.27133974e-021]\n",
      " [-6.09344526e-025  8.82069792e+199  5.86679289e+276]]\n",
      "[[6 6 6]\n",
      " [6 6 6]\n",
      " [6 6 6]]\n",
      "[  0.          11.11111111  22.22222222  33.33333333  44.44444444\n",
      "  55.55555556  66.66666667  77.77777778  88.88888889 100.        ]\n"
     ]
    }
   ],
   "source": [
    "# numpy.empty(shape, dtype=float, order='C')：生成一个未初始化的数组。\n",
    "print(np.empty([3,3]))\t\t\t\t\t\t\t# 生成一个未初始化的3*3数组\n",
    "# numpy.full(shape, fill_value, dtype=None, order='C')：生成一个fill_value填充的数组。\n",
    "print(np.full([3,3],6))\t\t\t\t\t\t\t# 生成一个值全为6的3*3数组\n",
    "# numpy.linspace(start, stop, num=50, endpoint=True, retstep=False, dtype=None, axis=0)：生成一个等间隔的数组，start起始值，stop终止值，num数量，endpoint=True表示stop为最后一个值。\n",
    "print(np.linspace(0,100,10))\t\t\t\t\t# 生成一个等间隔的数组"
   ]
  },
  {
   "cell_type": "code",
   "execution_count": 3,
   "metadata": {},
   "outputs": [
    {
     "name": "stdout",
     "output_type": "stream",
     "text": [
      "(3,)\n",
      "3\n",
      "5 2 3\n",
      "1 2 4\n"
     ]
    }
   ],
   "source": [
    "# numpy.array(object, dtype=None, copy=True, order='K', subok=False, ndmin=0)：生成一个数组。\n",
    "a = np.array([1, 2, 3])  \t\t\t\t\t# 创建一维数组\n",
    "print(a.shape)            \t\t\t\t\t# (3,)，shape为数组形状\n",
    "print(a.size)\t\t\t\t\t\t\t\t# 3：size为数组元素数量\n",
    "a[0] = 5                 \t\t\t\t\t# 改变元素取值\n",
    "print(a[0], a[1], a[2])   \t\t\t\t\t# 5 2 3，根据下标打印数组元素\n",
    "b = np.array([[1,2,3],[4,5,6]])   \t\t# 创建二维数组\n",
    "print(b[0, 0], b[0, 1], b[1, 0])   \t\t# 1 2 4，高维数组下标打印数组元素"
   ]
  },
  {
   "cell_type": "code",
   "execution_count": 4,
   "metadata": {},
   "outputs": [
    {
     "name": "stdout",
     "output_type": "stream",
     "text": [
      "float64\n",
      "int32\n"
     ]
    }
   ],
   "source": [
    "arr1 = np.array([1,2,3],dtype=np.float64)\n",
    "arr2 = np.array([1,2,3],dtype=np.int32)\n",
    "print(arr1.dtype)\t\t\t\t\t\t\t# float64，dtyp查看数组内元素的数据类型\n",
    "print(arr2.dtype)\t\t\t\t\t\t\t# int32"
   ]
  },
  {
   "cell_type": "code",
   "execution_count": 5,
   "metadata": {},
   "outputs": [
    {
     "name": "stdout",
     "output_type": "stream",
     "text": [
      "[  0   1   2   3   4   5 999   7   8   9]\n",
      "[ 0  1  2  3  4 14 14 14  8  9]\n",
      "[[-3.   2.   0.  -1. ]\n",
      " [ 2.5  1.7 -0.2  1. ]]\n",
      "[[ 0.  -1. ]\n",
      " [-0.2  1. ]]\n"
     ]
    }
   ],
   "source": [
    "arr = np.arange(10)\n",
    "arr_slice = arr[5:8]\t\t# 切片方式取值，类似于列表的切片\n",
    "arr_slice[1] = 999\n",
    "print(arr)\n",
    "arr_slice[:]=14\t\t\n",
    "print(arr)\n",
    "names = np.array(['Bob','Will','Bob','Joe'])\n",
    "data = np.array([[-3,2,0,-1],[1,2,3,-4],\n",
    "                 [2.5,1.7,-0.2,1],[-8,-4,9,10]])\n",
    "print(data[names=='Bob'])\t\t#根据True False选择数组内的数据\n",
    "print(data[names=='Bob',2:])"
   ]
  },
  {
   "cell_type": "code",
   "execution_count": 6,
   "metadata": {},
   "outputs": [
    {
     "name": "stdout",
     "output_type": "stream",
     "text": [
      "arr3: [[ 0  1  2  3  4]\n",
      " [ 5  6  7  8  9]\n",
      " [10 11 12 13 14]\n",
      " [15 16 17 18 19]]\n",
      "arr的平均值 9.5\n",
      "arr的和 190\n",
      "arr每行的平均值 [ 2.  7. 12. 17.]\n",
      "arr每列的和 [30 34 38 42 46]\n"
     ]
    }
   ],
   "source": [
    "arr3 = np.arange(20).reshape((4,5))\t# reshape()方法改变数组形状\n",
    "print(\"arr3:\",arr3)\n",
    "print(\"arr的平均值\",arr3.mean())\t\t# mean()方法求平均值 \n",
    "print(\"arr的和\",arr3.sum())\t\t\t# sum()求和\n",
    "\n",
    "print(\"arr每行的平均值\",arr3.mean(1))\t#  对每行求平均值，1行，0表示列\n",
    "print(\"arr每列的和\",arr3.sum(0))\t\t# [30 34 38 42 46]  对每列求和"
   ]
  },
  {
   "cell_type": "code",
   "execution_count": 1,
   "metadata": {},
   "outputs": [
    {
     "ename": "NameError",
     "evalue": "name 'np' is not defined",
     "output_type": "error",
     "traceback": [
      "\u001b[0;31m---------------------------------------------------------------------------\u001b[0m",
      "\u001b[0;31mNameError\u001b[0m                                 Traceback (most recent call last)",
      "\u001b[0;32m<ipython-input-1-85a21a4a6337>\u001b[0m in \u001b[0;36m<module>\u001b[0;34m\u001b[0m\n\u001b[1;32m      1\u001b[0m \u001b[0;31m# numpy.random.normal（loc = 0.0，scale = 1.0，size = None ）：从正态分布中抽取随机样本生成一个数组。loc为分布的平均值，scale为标注差，size为数组形状。\u001b[0m\u001b[0;34m\u001b[0m\u001b[0;34m\u001b[0m\u001b[0;34m\u001b[0m\u001b[0m\n\u001b[0;32m----> 2\u001b[0;31m \u001b[0msamples\u001b[0m \u001b[0;34m=\u001b[0m \u001b[0mnp\u001b[0m\u001b[0;34m.\u001b[0m\u001b[0mrandom\u001b[0m\u001b[0;34m.\u001b[0m\u001b[0mnormal\u001b[0m\u001b[0;34m(\u001b[0m\u001b[0msize\u001b[0m\u001b[0;34m=\u001b[0m\u001b[0;34m(\u001b[0m\u001b[0;36m2\u001b[0m\u001b[0;34m,\u001b[0m\u001b[0;36m2\u001b[0m\u001b[0;34m)\u001b[0m\u001b[0;34m)\u001b[0m  \u001b[0;31m#生成一个2*2的随机数组\u001b[0m\u001b[0;34m\u001b[0m\u001b[0;34m\u001b[0m\u001b[0m\n\u001b[0m\u001b[1;32m      3\u001b[0m \u001b[0mprint\u001b[0m\u001b[0;34m(\u001b[0m\u001b[0msamples\u001b[0m\u001b[0;34m)\u001b[0m\u001b[0;34m\u001b[0m\u001b[0;34m\u001b[0m\u001b[0m\n\u001b[1;32m      4\u001b[0m \u001b[0mprint\u001b[0m\u001b[0;34m(\u001b[0m\u001b[0;34m\"转置后的数组：\"\u001b[0m\u001b[0;34m,\u001b[0m\u001b[0msamples\u001b[0m\u001b[0;34m.\u001b[0m\u001b[0mT\u001b[0m\u001b[0;34m)\u001b[0m                      \u001b[0;31m# numpy.ndarray.T：数组转置\u001b[0m\u001b[0;34m\u001b[0m\u001b[0;34m\u001b[0m\u001b[0m\n",
      "\u001b[0;31mNameError\u001b[0m: name 'np' is not defined"
     ]
    }
   ],
   "source": [
    "# numpy.random.normal（loc = 0.0，scale = 1.0，size = None ）：从正态分布中抽取随机样本生成一个数组。loc为分布的平均值，scale为标注差，size为数组形状。\n",
    "samples = np.random.normal(size=(2,2))\t#生成一个2*2的随机数组\n",
    "print(samples)\n",
    "print(\"转置后的数组：\",samples.T)\t\t\t# numpy.ndarray.T：数组转置"
   ]
  },
  {
   "cell_type": "code",
   "execution_count": null,
   "metadata": {},
   "outputs": [],
   "source": []
  }
 ],
 "metadata": {
  "kernelspec": {
   "display_name": "Python 3",
   "language": "python",
   "name": "python3"
  },
  "language_info": {
   "codemirror_mode": {
    "name": "ipython",
    "version": 3
   },
   "file_extension": ".py",
   "mimetype": "text/x-python",
   "name": "python",
   "nbconvert_exporter": "python",
   "pygments_lexer": "ipython3",
   "version": "3.7.3"
  }
 },
 "nbformat": 4,
 "nbformat_minor": 2
}
